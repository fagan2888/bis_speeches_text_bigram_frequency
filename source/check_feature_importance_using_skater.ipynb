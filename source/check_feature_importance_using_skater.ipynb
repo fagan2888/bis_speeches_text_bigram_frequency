{
 "cells": [
  {
   "cell_type": "code",
   "execution_count": 1,
   "metadata": {},
   "outputs": [],
   "source": [
    "from skater.tests.all_tests import run_tests"
   ]
  },
  {
   "cell_type": "code",
   "execution_count": 3,
   "metadata": {},
   "outputs": [],
   "source": [
    "from skater.model import InMemoryModel\n",
    "from skater.core.explanations import Interpretation"
   ]
  },
  {
   "cell_type": "code",
   "execution_count": null,
   "metadata": {},
   "outputs": [],
   "source": []
  },
  {
   "cell_type": "markdown",
   "metadata": {},
   "source": [
    "### input data 형태 살펴보기"
   ]
  },
  {
   "cell_type": "code",
   "execution_count": 13,
   "metadata": {},
   "outputs": [],
   "source": [
    "import pandas as pd\n",
    "import numpy as np"
   ]
  },
  {
   "cell_type": "code",
   "execution_count": 5,
   "metadata": {},
   "outputs": [],
   "source": [
    "from sklearn.datasets import load_boston\n",
    "boston = load_boston()\n",
    "X, y, features = boston.data, boston.target, boston.feature_names"
   ]
  },
  {
   "cell_type": "code",
   "execution_count": 9,
   "metadata": {},
   "outputs": [
    {
     "name": "stdout",
     "output_type": "stream",
     "text": [
      "<class 'numpy.ndarray'> => (506, 13)\n",
      "<class 'numpy.ndarray'> => (506,)\n"
     ]
    }
   ],
   "source": [
    "print(type(X), '=>', X.shape)\n",
    "print(type(y), '=>', y.shape)"
   ]
  },
  {
   "cell_type": "code",
   "execution_count": 56,
   "metadata": {},
   "outputs": [
    {
     "name": "stdout",
     "output_type": "stream",
     "text": [
      "13\n",
      "['CRIM' 'ZN' 'INDUS' 'CHAS' 'NOX' 'RM' 'AGE' 'DIS' 'RAD' 'TAX' 'PTRATIO'\n",
      " 'B' 'LSTAT']\n"
     ]
    }
   ],
   "source": [
    "print(len(features))\n",
    "print(features)"
   ]
  },
  {
   "cell_type": "markdown",
   "metadata": {},
   "source": [
    "### 연설문 데이터 가져오기"
   ]
  },
  {
   "cell_type": "code",
   "execution_count": 11,
   "metadata": {},
   "outputs": [
    {
     "name": "stdout",
     "output_type": "stream",
     "text": [
      "base_dir: /home/dmlab/jihye/GIT/bis_speeches_text_bigram_frequency\n",
      "Parameters(\n",
      "  sentence_length_outlier = [0, 1, 2, 181, 252]\n",
      "  bigram_window_size = 15\n",
      "  bigram_max_rank = None\n",
      "  stopword_list = ['financial', 'market', 'federal', 'bank', 'banking', 'bankers', 'speech', 'bi', 'review', 'year', 'reserve', 'policy', 'state', 'central', 'board', 'percent', 'rate', 'mr', 'alan', 'greenspan', 'ben', 'bernanke', 'janet', 'yellen', 'jerome', 'powell', 'vol', 'ha', 'wa', 'ii']\n",
      "  ws_quarterly = 4\n",
      "  ws_semiannually = 2\n",
      "  ws_annually = 1\n",
      "  strength_alpha = 0.9\n",
      "  base_dir = /home/dmlab/jihye/GIT/bis_speeches_text_bigram_frequency\n",
      "  data_dir = /home/dmlab/jihye/GIT/bis_speeches_text_bigram_frequency/data\n",
      "  output_base_dir = /home/dmlab/jihye/GIT/bis_speeches_text_bigram_frequency/output\n",
      "  bis_raw_pkl_filepath = /home/dmlab/jihye/GIT/bis_speeches_text_bigram_frequency/data/bis_w_content_FINAL.pkl\n",
      "  fred_gdp_quarterly_csv_filepath = /home/dmlab/jihye/GIT/bis_speeches_text_bigram_frequency/data/fred_gdp_quarterly.csv\n",
      "  fred_gdp_semiannually_csv_filepath = /home/dmlab/jihye/GIT/bis_speeches_text_bigram_frequency/data/fred_gdp_semiannually.csv\n",
      "  fred_gdp_annually_csv_filepath = /home/dmlab/jihye/GIT/bis_speeches_text_bigram_frequency/data/fred_gdp_annually.csv\n",
      "  fred_unemp_quarterly_csv_filepath = /home/dmlab/jihye/GIT/bis_speeches_text_bigram_frequency/data/fred_unemp_quarterly.csv\n",
      ")\n",
      "Completed loading: /home/dmlab/jihye/GIT/bis_speeches_text_bigram_frequency/output/topn_50_rolling_3_period_x_y_dict_NOT_ALIGNED.pkl\n"
     ]
    }
   ],
   "source": [
    "from utils import * \n",
    "from config import parameters\n",
    "\n",
    "processed_list_pkl_filepath = os.path.join(parameters.output_base_dir, 'topn_50_rolling_3_period_x_y_dict_NOT_ALIGNED.pkl') \n",
    "[period_dict, proposed_data_x_dict, fred_data_y_dict] = load_pkl(processed_list_pkl_filepath)"
   ]
  },
  {
   "cell_type": "code",
   "execution_count": 51,
   "metadata": {},
   "outputs": [
    {
     "data": {
      "text/plain": [
       "pandas.core.frame.DataFrame"
      ]
     },
     "execution_count": 51,
     "metadata": {},
     "output_type": "execute_result"
    }
   ],
   "source": [
    "s2 = pd.Series(proposed_data_x_dict['strength']['unemployment_not_adjusted'])\n",
    "s4 = pd.Series(fred_data_y_dict['unemployment_not_adjusted'])\n",
    "\n",
    "X = pd.concat([s2, s4], axis=1)\n",
    "type(X)"
   ]
  },
  {
   "cell_type": "code",
   "execution_count": 52,
   "metadata": {},
   "outputs": [
    {
     "name": "stdout",
     "output_type": "stream",
     "text": [
      "-132.5187271592463 \t -1.1\n",
      "-144.72125531121657 \t 0.6\n",
      "-38.34082073355735 \t -0.5\n",
      "-127.68377735866281 \t 0.6\n",
      "-124.31054400888921 \t -0.7\n",
      "-127.77377432889492 \t 0.4\n",
      "-56.12805715419854 \t -0.7\n",
      "-132.73656653661018 \t 0.7\n",
      "-133.1753540058214 \t -0.8\n",
      "-133.88222273176765 \t 0.5\n"
     ]
    }
   ],
   "source": [
    "# test\n",
    "for i in range(10):\n",
    "    print(s2[i], '\\t', s4[i])"
   ]
  },
  {
   "cell_type": "code",
   "execution_count": 53,
   "metadata": {},
   "outputs": [
    {
     "name": "stdout",
     "output_type": "stream",
     "text": [
      "-132.5187271592463 \t -1.1\n",
      "-144.72125531121657 \t 0.6\n",
      "-38.34082073355735 \t -0.5\n",
      "-127.68377735866281 \t 0.6\n",
      "-124.31054400888921 \t -0.7\n",
      "-127.77377432889492 \t 0.4\n",
      "-56.12805715419854 \t -0.7\n",
      "-132.73656653661018 \t 0.7\n",
      "-133.1753540058214 \t -0.8\n",
      "-133.88222273176765 \t 0.5\n"
     ]
    }
   ],
   "source": [
    "# test\n",
    "for i in range(10):\n",
    "    print(X[0][i], '\\t', X[1][i])"
   ]
  },
  {
   "cell_type": "code",
   "execution_count": 54,
   "metadata": {},
   "outputs": [
    {
     "data": {
      "text/plain": [
       "numpy.ndarray"
      ]
     },
     "execution_count": 54,
     "metadata": {},
     "output_type": "execute_result"
    }
   ],
   "source": [
    "X = X.values\n",
    "type(X)"
   ]
  },
  {
   "cell_type": "code",
   "execution_count": null,
   "metadata": {},
   "outputs": [],
   "source": [
    "# interpreter = Interpretation(X, feature_names=features)\n",
    "# interpreter.feature_importance.feature_importance(skater_model)"
   ]
  }
 ],
 "metadata": {
  "kernelspec": {
   "display_name": "Python 3",
   "language": "python",
   "name": "python3"
  },
  "language_info": {
   "codemirror_mode": {
    "name": "ipython",
    "version": 3
   },
   "file_extension": ".py",
   "mimetype": "text/x-python",
   "name": "python",
   "nbconvert_exporter": "python",
   "pygments_lexer": "ipython3",
   "version": "3.6.9"
  }
 },
 "nbformat": 4,
 "nbformat_minor": 2
}
