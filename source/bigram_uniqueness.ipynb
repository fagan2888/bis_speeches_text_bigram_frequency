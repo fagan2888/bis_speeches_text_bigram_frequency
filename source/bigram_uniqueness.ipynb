{
 "cells": [
  {
   "cell_type": "code",
   "execution_count": 1,
   "metadata": {
    "collapsed": false
   },
   "outputs": [
    {
     "name": "stdout",
     "output_type": "stream",
     "text": [
      "base_dir: /home/dmlab/jihye/GIT/bis_speeches_text_bigram_frequency\n",
      "Parameters(\n",
      "  sentence_length_outlier = [0, 1, 2, 181, 252]\n",
      "  base_dir = /home/dmlab/jihye/GIT/bis_speeches_text_bigram_frequency\n",
      "  data_dir = /home/dmlab/jihye/GIT/bis_speeches_text_bigram_frequency/data\n",
      "  output_base_dir = /home/dmlab/jihye/GIT/bis_speeches_text_bigram_frequency/output\n",
      "  bis_raw_pkl_filepath = /home/dmlab/jihye/GIT/bis_speeches_text_bigram_frequency/data/bis_w_content_FINAL.pkl\n",
      ")\n"
     ]
    }
   ],
   "source": [
    "from config import parameters\n",
    "from utils import *"
   ]
  },
  {
   "cell_type": "markdown",
   "metadata": {},
   "source": [
    "### User configuration"
   ]
  },
  {
   "cell_type": "code",
   "execution_count": 10,
   "metadata": {
    "collapsed": true
   },
   "outputs": [],
   "source": [
    "bigram_window_size = 15\n",
    "bigram_max_rank = None\n",
    "\n",
    "stopword_list = ['financial', 'market', 'federal', 'bank', 'banking', 'bi', 'review', 'year', 'reserve', 'policy', 'state', 'central', 'board', 'percent'\n",
    "               , 'mr', 'alan', 'greenspan', 'ben', 'bernanke', 'janet', 'yellen', 'jerome', 'powell', 'vol'\n",
    "              , 'ha', 'wa']  \n",
    "ws_quarterly, ws_semiannually, ws_annually = 3, 1, 0"
   ]
  },
  {
   "cell_type": "code",
   "execution_count": 8,
   "metadata": {
    "collapsed": false
   },
   "outputs": [
    {
     "name": "stdout",
     "output_type": "stream",
     "text": [
      "Completed loading: /home/dmlab/jihye/GIT/bis_speeches_text_bigram_frequency/output/target-list-units-grouped_quarterly_20191028-21-52-08.pkl\n",
      "Completed loading: /home/dmlab/jihye/GIT/bis_speeches_text_bigram_frequency/output/target-list-units-grouped_semiannually_20191028-21-52-09.pkl\n",
      "Completed loading: /home/dmlab/jihye/GIT/bis_speeches_text_bigram_frequency/output/target-list-units-grouped_annually_20191028-21-52-09.pkl\n"
     ]
    }
   ],
   "source": [
    "stopset, filter_stops = stopwords_set_filter('english', stopword_list)\n",
    "\n",
    "quarterly_filepath = 'target-list-units-grouped_quarterly_20191028-21-52-08.pkl'\n",
    "semiannually_filepath = 'target-list-units-grouped_semiannually_20191028-21-52-09.pkl'\n",
    "annually_filepath = 'target-list-units-grouped_annually_20191028-21-52-09.pkl'\n",
    "quarterly_target_doc_dict = load_pkl(os.path.join(parameters.output_base_dir, quarterly_filepath))\n",
    "semiannually_target_doc_dict = load_pkl(os.path.join(parameters.output_base_dir, semiannually_filepath))\n",
    "annually_target_doc_dict = load_pkl(os.path.join(parameters.output_base_dir, annually_filepath))\n",
    "\n",
    "period_dict = {'quarterly': (quarterly_target_doc_dict, ws_quarterly), 'semiannually': (semiannually_target_doc_dict, ws_semiannually), 'annually': (annually_target_doc_dict, ws_annually)}"
   ]
  },
  {
   "cell_type": "code",
   "execution_count": 68,
   "metadata": {
    "collapsed": false
   },
   "outputs": [],
   "source": [
    "from BigramCollocationFinder_custom import BigramCollocationFinder\n",
    "\n",
    "def words_from_pos_tagged_words(pos_tagged_words):\n",
    "    return [x.strip() for (x,y) in pos_tagged_words]\n",
    "\n",
    "def get_one_dimensional_words(doc_list):\n",
    "    words = list()\n",
    "    for doc in doc_list:\n",
    "        for unigrams_with_pos in doc['unigrams_by_sentence']:\n",
    "            words.extend(words_from_pos_tagged_words(unigrams_with_pos))\n",
    "    return words\n",
    "\n",
    "def bigram_freq_rank_dict(finder, bigram_max_rank=None):\n",
    "    bigram_dict = dict()\n",
    "    _rank = 0\n",
    "    for _bigram, _freq in sorted(finder.ngram_fd.items(), key=lambda t:t[-1], reverse=True):   # frequency descending\n",
    "        _rank +=1 \n",
    "        if _bigram[0] == _bigram[1]:\n",
    "            _rank -=1\n",
    "            continue\n",
    "        bigram_dict[_bigram[0]+'-'+_bigram[1]] = (_freq, _rank)\n",
    "        if bigram_max_rank is not None and _rank == bigram_max_rank:\n",
    "            break\n",
    "    return bigram_dict\n",
    "\n",
    "def nltk_bigram_collocation_finder(word_list, bigram_window_size=2, filter_stops=None):        \n",
    "    finder = BigramCollocationFinder.from_words(word_list, window_size=bigram_window_size) \n",
    "    if filter_stops is not None:\n",
    "        finder.apply_word_filter(filter_stops) \n",
    "    return finder"
   ]
  },
  {
   "cell_type": "code",
   "execution_count": 69,
   "metadata": {
    "collapsed": false
   },
   "outputs": [
    {
     "name": "stdout",
     "output_type": "stream",
     "text": [
      "===== \n",
      " quarterly\n",
      "===== \n",
      " semiannually\n",
      "===== \n",
      " annually\n"
     ]
    }
   ],
   "source": [
    "final_bigram_freq_rank_dict = dict()\n",
    "for _period_category, (_period_dict, _ws) in period_dict.items():\n",
    "    print('='*5, '\\n', _period_category)\n",
    "    for i, _period in enumerate(sorted(_period_dict.keys())):\n",
    "        if i-_ws < 0:\n",
    "            continue\n",
    "            \n",
    "        # Bigram frequency\n",
    "        _current_periods = [j for j in range(i-_ws, i+1)]\n",
    "        _current_period_list_of_list_of_doc = [_period_dict[_period_j] for j, _period_j in enumerate(sorted(_period_dict.keys())) if j in _current_periods]\n",
    "        _current_doc_list = list()\n",
    "        for _current_period_list_of_doc in _current_period_list_of_list_of_doc:\n",
    "            for doc in _current_period_list_of_doc:\n",
    "                _current_doc_list.append(doc)\n",
    "        _current_words = get_one_dimensional_words(_current_doc_list)\n",
    "            \n",
    "        _current_finder = nltk_bigram_collocation_finder(_current_words, bigram_window_size, filter_stops)\n",
    "        _current_bigram_freq_rank_dict = bigram_freq_rank_dict(_current_finder, bigram_max_rank)\n",
    "        \n",
    "        final_bigram_freq_rank_dict[_period_category] = dict()\n",
    "        final_bigram_freq_rank_dict[_period_category][_period] = _current_bigram_freq_rank_dict\n",
    "        # BIGRAM FREQUENCY 완료"
   ]
  },
  {
   "cell_type": "code",
   "execution_count": 74,
   "metadata": {
    "collapsed": false
   },
   "outputs": [
    {
     "name": "stdout",
     "output_type": "stream",
     "text": [
      "debt-business \t (59, 1)\n",
      "sheet-balance \t (53, 2)\n",
      "rate-interest \t (52, 3)\n",
      "labor-force \t (48, 4)\n",
      "participation-labor \t (45, 5)\n",
      "productivity-growth \t (39, 6)\n",
      "rural-community \t (36, 7)\n",
      "development-community \t (35, 8)\n",
      "participation-force \t (35, 9)\n",
      "rate-elb \t (32, 10)\n"
     ]
    }
   ],
   "source": [
    "for _bigram in list(_current_bigram_freq_rank_dict.keys())[:10]:\n",
    "    print(_bigram, '\\t', _current_bigram_freq_rank_dict[_bigram])"
   ]
  },
  {
   "cell_type": "code",
   "execution_count": null,
   "metadata": {
    "collapsed": true
   },
   "outputs": [],
   "source": []
  },
  {
   "cell_type": "code",
   "execution_count": null,
   "metadata": {
    "collapsed": true
   },
   "outputs": [],
   "source": []
  }
 ],
 "metadata": {
  "kernelspec": {
   "display_name": "Python 3",
   "language": "python",
   "name": "python3"
  },
  "language_info": {
   "codemirror_mode": {
    "name": "ipython",
    "version": 3
   },
   "file_extension": ".py",
   "mimetype": "text/x-python",
   "name": "python",
   "nbconvert_exporter": "python",
   "pygments_lexer": "ipython3",
   "version": "3.6.9"
  }
 },
 "nbformat": 4,
 "nbformat_minor": 2
}
