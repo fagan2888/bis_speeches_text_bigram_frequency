{
 "cells": [
  {
   "cell_type": "code",
   "execution_count": 1,
   "metadata": {
    "collapsed": false
   },
   "outputs": [
    {
     "name": "stdout",
     "output_type": "stream",
     "text": [
      "base_dir: /home/dmlab/jihye/GIT/bis_speeches_text_bigram_frequency\n",
      "Parameters(\n",
      "  sentence_length_outlier = [0, 1, 2, 181, 252]\n",
      "  base_dir = /home/dmlab/jihye/GIT/bis_speeches_text_bigram_frequency\n",
      "  data_dir = /home/dmlab/jihye/GIT/bis_speeches_text_bigram_frequency/data\n",
      "  output_base_dir = /home/dmlab/jihye/GIT/bis_speeches_text_bigram_frequency/output\n",
      "  bis_raw_pkl_filepath = /home/dmlab/jihye/GIT/bis_speeches_text_bigram_frequency/data/bis_w_content_FINAL.pkl\n",
      ")\n"
     ]
    }
   ],
   "source": [
    "from config import parameters\n",
    "from utils import *"
   ]
  },
  {
   "cell_type": "markdown",
   "metadata": {},
   "source": [
    "### User configuration"
   ]
  },
  {
   "cell_type": "code",
   "execution_count": 2,
   "metadata": {
    "collapsed": true
   },
   "outputs": [],
   "source": [
    "bigram_window_size = 15\n",
    "bigram_max_rank = None\n",
    "\n",
    "stopword_list = ['financial', 'market', 'federal', 'bank', 'banking', 'bankers', 'speech', 'bi', 'review', 'year', 'reserve', 'policy', 'state', 'central', 'board', 'percent', 'rate'\n",
    "               , 'mr', 'alan', 'greenspan', 'ben', 'bernanke', 'janet', 'yellen', 'jerome', 'powell', 'vol'\n",
    "              , 'ha', 'wa', 'ii']  \n",
    "ws_quarterly, ws_semiannually, ws_annually = 3, 1, 0"
   ]
  },
  {
   "cell_type": "code",
   "execution_count": 3,
   "metadata": {
    "collapsed": false
   },
   "outputs": [
    {
     "name": "stdout",
     "output_type": "stream",
     "text": [
      "Completed loading: /home/dmlab/jihye/GIT/bis_speeches_text_bigram_frequency/output/target-list-units-grouped_quarterly_20191028-21-52-08.pkl\n",
      "Completed loading: /home/dmlab/jihye/GIT/bis_speeches_text_bigram_frequency/output/target-list-units-grouped_semiannually_20191028-21-52-09.pkl\n",
      "Completed loading: /home/dmlab/jihye/GIT/bis_speeches_text_bigram_frequency/output/target-list-units-grouped_annually_20191028-21-52-09.pkl\n"
     ]
    }
   ],
   "source": [
    "display_max_count = 5\n",
    "\n",
    "stopset, filter_stops = stopwords_set_filter('english', stopword_list)\n",
    "\n",
    "quarterly_filepath = 'target-list-units-grouped_quarterly_20191028-21-52-08.pkl'\n",
    "semiannually_filepath = 'target-list-units-grouped_semiannually_20191028-21-52-09.pkl'\n",
    "annually_filepath = 'target-list-units-grouped_annually_20191028-21-52-09.pkl'\n",
    "quarterly_target_doc_dict = load_pkl(os.path.join(parameters.output_base_dir, quarterly_filepath))\n",
    "semiannually_target_doc_dict = load_pkl(os.path.join(parameters.output_base_dir, semiannually_filepath))\n",
    "annually_target_doc_dict = load_pkl(os.path.join(parameters.output_base_dir, annually_filepath))\n",
    "\n",
    "period_dict = {'quarterly': (quarterly_target_doc_dict, ws_quarterly), 'semiannually': (semiannually_target_doc_dict, ws_semiannually), 'annually': (annually_target_doc_dict, ws_annually)}"
   ]
  },
  {
   "cell_type": "code",
   "execution_count": 4,
   "metadata": {
    "collapsed": false
   },
   "outputs": [],
   "source": [
    "from BigramCollocationFinder_custom import BigramCollocationFinder\n",
    "\n",
    "def words_from_pos_tagged_words(pos_tagged_words):\n",
    "    return [x.strip() for (x,y) in pos_tagged_words]\n",
    "\n",
    "def get_one_dimensional_words(doc_list):\n",
    "    words = list()\n",
    "    for doc in doc_list:\n",
    "        for unigrams_with_pos in doc['unigrams_by_sentence']:\n",
    "            words.extend(words_from_pos_tagged_words(unigrams_with_pos))\n",
    "    return words\n",
    "\n",
    "def bigram_freq_rank_dict(finder, bigram_max_rank=None):\n",
    "    bigram_dict = dict()\n",
    "    _rank = 0\n",
    "    for _bigram, _freq in sorted(finder.ngram_fd.items(), key=lambda t:t[-1], reverse=True):   # frequency descending\n",
    "        _rank +=1 \n",
    "        if _bigram[0] == _bigram[1]:\n",
    "            _rank -=1\n",
    "            continue\n",
    "        bigram_dict[_bigram[0]+'-'+_bigram[1]] = (_freq, _rank)\n",
    "        if bigram_max_rank is not None and _rank == bigram_max_rank:\n",
    "            break\n",
    "    return bigram_dict\n",
    "\n",
    "def nltk_bigram_collocation_finder(word_list, bigram_window_size=2, filter_stops=None):        \n",
    "    finder = BigramCollocationFinder.from_words(word_list, window_size=bigram_window_size) \n",
    "    if filter_stops is not None:\n",
    "        finder.apply_word_filter(filter_stops) \n",
    "    return finder"
   ]
  },
  {
   "cell_type": "code",
   "execution_count": 5,
   "metadata": {
    "collapsed": true
   },
   "outputs": [],
   "source": [
    "from sklearn.feature_extraction.text import CountVectorizer\n",
    "\n",
    "def bow_unigram_freq_dict(word_list, stopset=None):\n",
    "    vectorizer = CountVectorizer(stop_words=stopset)\n",
    "    X = vectorizer.fit_transform(word_list)\n",
    "    terms = vectorizer.get_feature_names()\n",
    "    freqs = X.sum(axis=0).A1\n",
    "    unigram_bow_dict = dict(zip(terms, freqs))\n",
    "    return unigram_bow_dict"
   ]
  },
  {
   "cell_type": "code",
   "execution_count": 9,
   "metadata": {
    "collapsed": true
   },
   "outputs": [],
   "source": [
    "def get_0_if_None(content):\n",
    "    if content is None:\n",
    "        return 0 \n",
    "    return content\n",
    "\n",
    "def words_from_range(_period_dict, range_start, range_end):\n",
    "    _target_periods = [j for j in range(range_start, range_end)]\n",
    "    _target_period_list_of_list_of_doc = [_period_dict[_period_j] for j, _period_j in enumerate(sorted(_period_dict.keys())) if j in _target_periods]\n",
    "    _target_doc_list = list()\n",
    "    for _target_period_list_of_doc in _target_period_list_of_list_of_doc:\n",
    "        for doc in _target_period_list_of_doc:\n",
    "            _target_doc_list.append(doc)\n",
    "    _target_words = get_one_dimensional_words(_target_doc_list)\n",
    "    return _target_words"
   ]
  },
  {
   "cell_type": "code",
   "execution_count": 10,
   "metadata": {
    "collapsed": false
   },
   "outputs": [
    {
     "name": "stdout",
     "output_type": "stream",
     "text": [
      "===== \n",
      " quarterly , ranking , bigram , uniqueness , curr_bigram_freq , ref_bigram_freq\n",
      "1998_Q1 , 1 , price-inflation , 0.8250747236024933 , 89 , 38\n",
      "1998_Q1 , 2 , growth-economic , 1.6211339521972916 , 86 , 16\n",
      "1998_Q1 , 3 , growth-economy , 2.6026896854443837 , 81 , 5\n",
      "1998_Q1 , 4 , price-index , 1.349926716949016 , 81 , 20\n",
      "1998_Q1 , 5 , price-measurement , 2.1722232751308024 , 79 , 8\n",
      "1998_Q2 , 1 , price-inflation , 0.5340824859302579 , 87 , 50\n",
      "1998_Q2 , 2 , price-index , 1.349926716949016 , 81 , 20\n",
      "1998_Q2 , 3 , price-measurement , 2.0541237336955462 , 78 , 9\n",
      "1998_Q2 , 4 , risk-capital , 1.0577902941478545 , 72 , 24\n",
      "1998_Q2 , 5 , rate-interest , 1.2181574393178924 , 71 , 20\n",
      "1998_Q3 , 1 , system-international , 1.8718021769015913 , 91 , 13\n",
      "1998_Q3 , 2 , price-inflation , 0.1981769285837487 , 89 , 72\n",
      "1998_Q3 , 3 , system-economy , 0.8680886300562773 , 81 , 33\n",
      "1998_Q3 , 4 , growth-economic , 0.17733401528291545 , 80 , 66\n",
      "1998_Q3 , 5 , risk-capital , 1.1631508098056809 , 80 , 24\n",
      "1998_Q4 , 1 , risk-capital , 0.8209805520698303 , 75 , 32\n",
      "1998_Q4 , 2 , price-inflation , -0.4003237086077458 , 65 , 96\n",
      "1998_Q4 , 3 , growth-economic , -0.42819335918572043 , 58 , 88\n",
      "1998_Q4 , 4 , system-economy , -0.05129329438755058 , 57 , 59\n",
      "1998_Q4 , 5 , rate-interest , -0.018018505502678365 , 55 , 55\n",
      "1999_Q1 , 1 , growth-economic , -0.5571915443239164 , 59 , 102\n",
      "1999_Q1 , 2 , investment-capital , 0.5639354490799391 , 58 , 32\n",
      "1999_Q1 , 3 , price-inflation , -0.808978996085067 , 57 , 127\n",
      "1999_Q1 , 4 , rate-interest , -0.373513508301562 , 53 , 76\n",
      "1999_Q1 , 5 , system-economy , -0.32208349916911333 , 50 , 68\n",
      "1999_Q2 , 1 , foreign-exchange , 0.7073318155519017 , 71 , 34\n",
      "1999_Q2 , 2 , investment-capital , 0.5634693572514127 , 65 , 36\n",
      "1999_Q2 , 3 , price-inflation , -0.832909122935104 , 60 , 137\n",
      "1999_Q2 , 4 , productivity-growth , -0.3939042857070884 , 58 , 85\n",
      "1999_Q2 , 5 , growth-economic , -0.8241754429663495 , 50 , 113\n",
      "1999_Q3 , 1 , productivity-growth , -0.23511974236092548 , 83 , 104\n",
      "1999_Q3 , 2 , foreign-exchange , 0.623188591953035 , 69 , 36\n",
      "1999_Q3 , 3 , rate-interest , -0.750305594399894 , 51 , 107\n",
      "1999_Q3 , 4 , growth-economic , -1.0986122886681098 , 49 , 146\n",
      "1999_Q3 , 5 , price-growth , -0.3629054936893685 , 48 , 68\n",
      "1999_Q4 , 1 , productivity-growth , -0.23511974236092548 , 83 , 104\n",
      "1999_Q4 , 2 , foreign-exchange , 0.623188591953035 , 69 , 36\n",
      "1999_Q4 , 3 , rate-interest , -0.7582864827309068 , 52 , 110\n",
      "1999_Q4 , 4 , growth-economic , -1.0586069540544105 , 51 , 146\n",
      "1999_Q4 , 5 , emerging-economy , 0.43721380642274466 , 48 , 30\n"
     ]
    },
    {
     "ename": "KeyboardInterrupt",
     "evalue": "",
     "output_type": "error",
     "traceback": [
      "\u001b[0;31m---------------------------------------------------------------------------\u001b[0m",
      "\u001b[0;31mKeyboardInterrupt\u001b[0m                         Traceback (most recent call last)",
      "\u001b[0;32m<ipython-input-10-e4cebda237b6>\u001b[0m in \u001b[0;36m<module>\u001b[0;34m()\u001b[0m\n\u001b[1;32m     54\u001b[0m         \u001b[0m_reference_words\u001b[0m \u001b[0;34m=\u001b[0m \u001b[0mwords_from_range\u001b[0m\u001b[0;34m(\u001b[0m\u001b[0m_period_dict\u001b[0m\u001b[0;34m,\u001b[0m \u001b[0;36m0\u001b[0m\u001b[0;34m,\u001b[0m \u001b[0mi\u001b[0m\u001b[0;34m-\u001b[0m\u001b[0m_ws\u001b[0m\u001b[0;34m)\u001b[0m\u001b[0;34m\u001b[0m\u001b[0;34m\u001b[0m\u001b[0m\n\u001b[1;32m     55\u001b[0m \u001b[0;34m\u001b[0m\u001b[0m\n\u001b[0;32m---> 56\u001b[0;31m         \u001b[0m_reference_finder\u001b[0m \u001b[0;34m=\u001b[0m \u001b[0mnltk_bigram_collocation_finder\u001b[0m\u001b[0;34m(\u001b[0m\u001b[0m_reference_words\u001b[0m\u001b[0;34m,\u001b[0m \u001b[0mbigram_window_size\u001b[0m\u001b[0;34m,\u001b[0m \u001b[0mfilter_stops\u001b[0m\u001b[0;34m)\u001b[0m\u001b[0;34m\u001b[0m\u001b[0;34m\u001b[0m\u001b[0m\n\u001b[0m\u001b[1;32m     57\u001b[0m         \u001b[0m_reference_bigram_freq_rank_dict\u001b[0m \u001b[0;34m=\u001b[0m \u001b[0mbigram_freq_rank_dict\u001b[0m\u001b[0;34m(\u001b[0m\u001b[0m_reference_finder\u001b[0m\u001b[0;34m,\u001b[0m \u001b[0mbigram_max_rank\u001b[0m\u001b[0;34m)\u001b[0m\u001b[0;34m\u001b[0m\u001b[0;34m\u001b[0m\u001b[0m\n\u001b[1;32m     58\u001b[0m \u001b[0;34m\u001b[0m\u001b[0m\n",
      "\u001b[0;32m<ipython-input-4-881e871fed9a>\u001b[0m in \u001b[0;36mnltk_bigram_collocation_finder\u001b[0;34m(word_list, bigram_window_size, filter_stops)\u001b[0m\n\u001b[1;32m     25\u001b[0m \u001b[0;34m\u001b[0m\u001b[0m\n\u001b[1;32m     26\u001b[0m \u001b[0;32mdef\u001b[0m \u001b[0mnltk_bigram_collocation_finder\u001b[0m\u001b[0;34m(\u001b[0m\u001b[0mword_list\u001b[0m\u001b[0;34m,\u001b[0m \u001b[0mbigram_window_size\u001b[0m\u001b[0;34m=\u001b[0m\u001b[0;36m2\u001b[0m\u001b[0;34m,\u001b[0m \u001b[0mfilter_stops\u001b[0m\u001b[0;34m=\u001b[0m\u001b[0;32mNone\u001b[0m\u001b[0;34m)\u001b[0m\u001b[0;34m:\u001b[0m\u001b[0;34m\u001b[0m\u001b[0;34m\u001b[0m\u001b[0m\n\u001b[0;32m---> 27\u001b[0;31m     \u001b[0mfinder\u001b[0m \u001b[0;34m=\u001b[0m \u001b[0mBigramCollocationFinder\u001b[0m\u001b[0;34m.\u001b[0m\u001b[0mfrom_words\u001b[0m\u001b[0;34m(\u001b[0m\u001b[0mword_list\u001b[0m\u001b[0;34m,\u001b[0m \u001b[0mwindow_size\u001b[0m\u001b[0;34m=\u001b[0m\u001b[0mbigram_window_size\u001b[0m\u001b[0;34m)\u001b[0m\u001b[0;34m\u001b[0m\u001b[0;34m\u001b[0m\u001b[0m\n\u001b[0m\u001b[1;32m     28\u001b[0m     \u001b[0;32mif\u001b[0m \u001b[0mfilter_stops\u001b[0m \u001b[0;32mis\u001b[0m \u001b[0;32mnot\u001b[0m \u001b[0;32mNone\u001b[0m\u001b[0;34m:\u001b[0m\u001b[0;34m\u001b[0m\u001b[0;34m\u001b[0m\u001b[0m\n\u001b[1;32m     29\u001b[0m         \u001b[0mfinder\u001b[0m\u001b[0;34m.\u001b[0m\u001b[0mapply_word_filter\u001b[0m\u001b[0;34m(\u001b[0m\u001b[0mfilter_stops\u001b[0m\u001b[0;34m)\u001b[0m\u001b[0;34m\u001b[0m\u001b[0;34m\u001b[0m\u001b[0m\n",
      "\u001b[0;32m/home/dmlab/jihye/GIT/bis_speeches_text_bigram_frequency/source/BigramCollocationFinder_custom.py\u001b[0m in \u001b[0;36mfrom_words\u001b[0;34m(cls, words, window_size)\u001b[0m\n\u001b[1;32m    186\u001b[0m \u001b[0;31m#                        bfd[(w2, w1)] += 1\u001b[0m\u001b[0;34m\u001b[0m\u001b[0;34m\u001b[0m\u001b[0;34m\u001b[0m\u001b[0m\n\u001b[1;32m    187\u001b[0m \u001b[0;31m#                        continue\u001b[0m\u001b[0;34m\u001b[0m\u001b[0;34m\u001b[0m\u001b[0;34m\u001b[0m\u001b[0m\n\u001b[0;32m--> 188\u001b[0;31m                     \u001b[0mbfd\u001b[0m\u001b[0;34m[\u001b[0m\u001b[0;34m(\u001b[0m\u001b[0m_first\u001b[0m\u001b[0;34m,\u001b[0m \u001b[0m_second\u001b[0m\u001b[0;34m)\u001b[0m\u001b[0;34m]\u001b[0m \u001b[0;34m+=\u001b[0m \u001b[0;36m1\u001b[0m\u001b[0;34m\u001b[0m\u001b[0;34m\u001b[0m\u001b[0m\n\u001b[0m\u001b[1;32m    189\u001b[0m         \u001b[0;32mreturn\u001b[0m \u001b[0mcls\u001b[0m\u001b[0;34m(\u001b[0m\u001b[0mwfd\u001b[0m\u001b[0;34m,\u001b[0m \u001b[0mbfd\u001b[0m\u001b[0;34m,\u001b[0m \u001b[0mwindow_size\u001b[0m\u001b[0;34m=\u001b[0m\u001b[0mwindow_size\u001b[0m\u001b[0;34m)\u001b[0m\u001b[0;34m\u001b[0m\u001b[0;34m\u001b[0m\u001b[0m\n\u001b[1;32m    190\u001b[0m \u001b[0;34m\u001b[0m\u001b[0m\n",
      "\u001b[0;31mKeyboardInterrupt\u001b[0m: "
     ]
    }
   ],
   "source": [
    "import numpy as np\n",
    "\n",
    "for _period_category, (_period_dict, _ws) in period_dict.items():\n",
    "    print('='*5, '\\n', _period_category, ', ranking , bigram , uniqueness , curr_bigram_freq , ref_bigram_freq')\n",
    "        \n",
    "    for i, _period in enumerate(sorted(_period_dict.keys())):\n",
    "        if i-_ws <= 0:\n",
    "            continue\n",
    "        \n",
    "        # Uniqueness: Current Bigram frequency\n",
    "        _current_words = words_from_range(_period_dict, i-_ws, i+1)\n",
    "        _current_finder = nltk_bigram_collocation_finder(_current_words, bigram_window_size, filter_stops)\n",
    "        _current_bigram_freq_rank_dict = bigram_freq_rank_dict(_current_finder, bigram_max_rank)\n",
    "        \n",
    "        # Uniqueness: Reference Bigram frequency\n",
    "        _reference_words = words_from_range(_period_dict, 0, i-_ws)\n",
    "        _reference_finder = nltk_bigram_collocation_finder(_reference_words, bigram_window_size, filter_stops)\n",
    "        _reference_bigram_freq_rank_dict = bigram_freq_rank_dict(_reference_finder, bigram_max_rank)\n",
    "\n",
    "        # Uniqueness: score\n",
    "        count = 0\n",
    "        for _bigram, (_freq, _rank) in sorted(_current_bigram_freq_rank_dict.items(), key=lambda t:t[-1][1]):   # ranking ascending\n",
    "            count += 1 \n",
    "            \n",
    "            _numerator = _freq \n",
    "            if _reference_bigram_freq_rank_dict.get(_bigram) is None:\n",
    "                _reference_freq = 0\n",
    "            else:\n",
    "                _reference_freq = _reference_bigram_freq_rank_dict.get(_bigram)[0]\n",
    "            _denominator = _reference_freq + 1\n",
    "            _uniqueness = np.log(_numerator / _denominator)\n",
    "            \n",
    "            print(_period, ',', _rank, ',', _bigram, ',', _uniqueness, ',', _freq, ',', _reference_freq)\n",
    "            if count == display_max_count:\n",
    "                break\n",
    "                "
   ]
  },
  {
   "cell_type": "code",
   "execution_count": null,
   "metadata": {
    "collapsed": false
   },
   "outputs": [],
   "source": []
  }
 ],
 "metadata": {
  "kernelspec": {
   "display_name": "Python 3",
   "language": "python",
   "name": "python3"
  },
  "language_info": {
   "codemirror_mode": {
    "name": "ipython",
    "version": 3
   },
   "file_extension": ".py",
   "mimetype": "text/x-python",
   "name": "python",
   "nbconvert_exporter": "python",
   "pygments_lexer": "ipython3",
   "version": "3.6.9"
  }
 },
 "nbformat": 4,
 "nbformat_minor": 2
}
