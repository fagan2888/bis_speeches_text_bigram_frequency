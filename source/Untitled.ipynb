{
 "cells": [
  {
   "cell_type": "code",
   "execution_count": 6,
   "metadata": {
    "collapsed": true
   },
   "outputs": [],
   "source": [
    "from config import parameters\n",
    "from utils import *"
   ]
  },
  {
   "cell_type": "code",
   "execution_count": 25,
   "metadata": {
    "collapsed": false
   },
   "outputs": [
    {
     "name": "stdout",
     "output_type": "stream",
     "text": [
      "Completed loading: /home/dmlab/jihye/GIT/bis_speeches_text_bigram_frequency/data/bis_w_content_FINAL.pkl\n",
      "bis_raw_pkl_filepath\n"
     ]
    }
   ],
   "source": [
    "bis_raw_pkl_filepath = parameters.bis_raw_pkl_filepath\n",
    "data_dict = load_pkl(bis_raw_pkl_filepath)\n",
    "data_dict['r120822a']['date']"
   ]
  },
  {
   "cell_type": "code",
   "execution_count": 28,
   "metadata": {
    "collapsed": false
   },
   "outputs": [
    {
     "name": "stdout",
     "output_type": "stream",
     "text": [
      "Completed loading: /home/dmlab/jihye/GIT/bis_speeches_text_bigram_frequency/output/temp/target-doc-list_20191028-04-08-00.pkl\n"
     ]
    },
    {
     "data": {
      "text/plain": [
       "488"
      ]
     },
     "execution_count": 28,
     "metadata": {},
     "output_type": "execute_result"
    }
   ],
   "source": [
    "target_doc_list = load_pkl('/home/dmlab/jihye/GIT/bis_speeches_text_bigram_frequency/output/temp/target-doc-list_20191028-04-08-00.pkl')\n",
    "len(target_doc_list)"
   ]
  },
  {
   "cell_type": "code",
   "execution_count": null,
   "metadata": {
    "collapsed": true
   },
   "outputs": [],
   "source": []
  },
  {
   "cell_type": "code",
   "execution_count": 48,
   "metadata": {
    "collapsed": false
   },
   "outputs": [
    {
     "name": "stdout",
     "output_type": "stream",
     "text": [
      "01 , \n",
      "02 , \n",
      "03 , \n",
      "04 , \n",
      "05 , \n",
      "06 , \n",
      "07 , \n",
      "08 , \n",
      "09 , \n",
      "10 , \n",
      "11 , \n",
      "12 , \n"
     ]
    }
   ],
   "source": [
    "def _period_dict(target_dict, _period, start, end):\n",
    "    for _month in [str('%02d' % i) for i in range(start, end+1)]:\n",
    "        target_dict[_month] = _period\n",
    "    return target_dict\n",
    "\n",
    "def quarterly_dict():\n",
    "    target_dict = dict()\n",
    "    _period, start, end = 'Q1', 1, 3\n",
    "    _period_dict(target_dict, _period, start, end)\n",
    "    _period, start, end = 'Q2', 4, 6\n",
    "    _period_dict(target_dict, _period, start, end)\n",
    "    _period, start, end = 'Q3', 7, 9\n",
    "    _period_dict(target_dict, _period, start, end)\n",
    "    _period, start, end = 'Q4', 10, 12\n",
    "    _period_dict(target_dict, _period, start, end)\n",
    "    return target_dict\n",
    "\n",
    "def semiannually_dict():\n",
    "    target_dict = dict()\n",
    "    _period, start, end = '1H', 1, 6\n",
    "    _period_dict(target_dict, _period, start, end)\n",
    "    _period, start, end = '2H', 7, 12\n",
    "    _period_dict(target_dict, _period, start, end)\n",
    "    return target_dict\n",
    "\n",
    "def annually_dict():\n",
    "    target_dict = dict()\n",
    "    _period, start, end = '', 1, 12\n",
    "    _period_dict(target_dict, _period, start, end)\n",
    "    return target_dict\n",
    "\n",
    "for key, val in annually_dict().items():\n",
    "    print(key, ',', val)"
   ]
  }
 ],
 "metadata": {
  "kernelspec": {
   "display_name": "Python 3",
   "language": "python",
   "name": "python3"
  },
  "language_info": {
   "codemirror_mode": {
    "name": "ipython",
    "version": 3
   },
   "file_extension": ".py",
   "mimetype": "text/x-python",
   "name": "python",
   "nbconvert_exporter": "python",
   "pygments_lexer": "ipython3",
   "version": "3.6.9"
  }
 },
 "nbformat": 4,
 "nbformat_minor": 2
}
