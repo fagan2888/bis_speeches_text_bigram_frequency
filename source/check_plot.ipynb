{
 "cells": [
  {
   "cell_type": "code",
   "execution_count": 1,
   "metadata": {
    "collapsed": false
   },
   "outputs": [
    {
     "name": "stdout",
     "output_type": "stream",
     "text": [
      "base_dir: /home/dmlab/jihye/GIT/bis_speeches_text_bigram_frequency\n",
      "Parameters(\n",
      "  sentence_length_outlier = [0, 1, 2, 181, 252]\n",
      "  bigram_window_size = 15\n",
      "  bigram_max_rank = None\n",
      "  stopword_list = ['financial', 'market', 'federal', 'bank', 'banking', 'bankers', 'speech', 'bi', 'review', 'year', 'reserve', 'policy', 'state', 'central', 'board', 'percent', 'rate', 'mr', 'alan', 'greenspan', 'ben', 'bernanke', 'janet', 'yellen', 'jerome', 'powell', 'vol', 'ha', 'wa', 'ii']\n",
      "  ws_quarterly = 3\n",
      "  ws_semiannually = 1\n",
      "  ws_annually = 0\n",
      "  strength_alpha = 0.9\n",
      "  base_dir = /home/dmlab/jihye/GIT/bis_speeches_text_bigram_frequency\n",
      "  data_dir = /home/dmlab/jihye/GIT/bis_speeches_text_bigram_frequency/data\n",
      "  output_base_dir = /home/dmlab/jihye/GIT/bis_speeches_text_bigram_frequency/output\n",
      "  bis_raw_pkl_filepath = /home/dmlab/jihye/GIT/bis_speeches_text_bigram_frequency/data/bis_w_content_FINAL.pkl\n",
      ")\n"
     ]
    }
   ],
   "source": [
    "from config import parameters\n",
    "from utils import * "
   ]
  },
  {
   "cell_type": "code",
   "execution_count": 8,
   "metadata": {
    "collapsed": false
   },
   "outputs": [
    {
     "name": "stdout",
     "output_type": "stream",
     "text": [
      "Completed loading: /home/dmlab/jihye/GIT/bis_speeches_text_bigram_frequency/output/bigram-uniqueness-strength.pkl\n",
      "dict_keys(['quarterly', 'semiannually', 'annually'])\n"
     ]
    }
   ],
   "source": [
    "output_base_dir = parameters.output_base_dir\n",
    "bigram_uniqueness_strength_pkl_filepath = os.path.join(output_base_dir,get_str_concat('bigram-uniqueness-strength.pkl'))\n",
    "bigram_uniqueness_strength_dict = load_pkl(bigram_uniqueness_strength_pkl_filepath)\n",
    "print(bigram_uniqueness_strength_dict.keys())"
   ]
  },
  {
   "cell_type": "code",
   "execution_count": null,
   "metadata": {
    "collapsed": true
   },
   "outputs": [],
   "source": []
  },
  {
   "cell_type": "code",
   "execution_count": 36,
   "metadata": {
    "collapsed": false
   },
   "outputs": [
    {
     "name": "stdout",
     "output_type": "stream",
     "text": [
      "_period_category , period , uniqueness * strength , -(uniqueness * strength)\n",
      "quarterly , 1998_Q1 , 121.2258543560544 , -121.2258543560544\n",
      "quarterly , 1998_Q2 , 103.22294008722987 , -103.22294008722987\n",
      "quarterly , 1998_Q3 , 65.61968296469442 , -65.61968296469442\n",
      "quarterly , 1998_Q4 , 9.202056307081847 , -9.202056307081847\n",
      "quarterly , 1999_Q1 , -9.581152406713366 , 9.581152406713366\n",
      "quarterly , 1999_Q2 , 13.628095296391251 , -13.628095296391251\n",
      "quarterly , 1999_Q3 , -3.2285566302765125 , 3.2285566302765125\n",
      "quarterly , 1999_Q4 , 1.3317914840789564 , -1.3317914840789564\n",
      "quarterly , 2000_Q1 , 4.697277209651556 , -4.697277209651556\n",
      "quarterly , 2000_Q2 , -14.579244524987066 , 14.579244524987066\n",
      "quarterly , 2000_Q3 , -14.102030845544597 , 14.102030845544597\n",
      "quarterly , 2000_Q4 , -25.387513030477233 , 25.387513030477233\n",
      "quarterly , 2001_Q1 , -35.31203841835405 , 35.31203841835405\n",
      "quarterly , 2001_Q2 , -21.85667168411232 , 21.85667168411232\n",
      "quarterly , 2001_Q3 , -6.69467303772697 , 6.69467303772697\n",
      "quarterly , 2001_Q4 , 17.3121293086038 , -17.3121293086038\n",
      "quarterly , 2002_Q1 , 44.18267434915444 , -44.18267434915444\n",
      "quarterly , 2002_Q2 , 103.00331349037667 , -103.00331349037667\n",
      "quarterly , 2002_Q3 , 214.47474375255933 , -214.47474375255933\n",
      "quarterly , 2002_Q4 , 17.753126321927347 , -17.753126321927347\n",
      "quarterly , 2003_Q1 , 255.22156173577372 , -255.22156173577372\n",
      "quarterly , 2003_Q2 , -27.01598084925681 , 27.01598084925681\n",
      "quarterly , 2003_Q3 , -24.800296816399396 , 24.800296816399396\n",
      "quarterly , 2003_Q4 , 4.96685083295532 , -4.96685083295532\n",
      "quarterly , 2004_Q1 , 41.160223024776144 , -41.160223024776144\n",
      "quarterly , 2004_Q2 , 31.303429372217277 , -31.303429372217277\n",
      "quarterly , 2004_Q3 , 28.244481686924104 , -28.244481686924104\n",
      "quarterly , 2004_Q4 , 143.1966426463186 , -143.1966426463186\n",
      "quarterly , 2005_Q1 , 15.26585840940136 , -15.26585840940136\n",
      "quarterly , 2005_Q2 , -35.511421192877464 , 35.511421192877464\n",
      "quarterly , 2005_Q3 , -35.75526145096797 , 35.75526145096797\n",
      "quarterly , 2005_Q4 , -80.56298232165827 , 80.56298232165827\n",
      "quarterly , 2006_Q1 , -57.40357228032785 , 57.40357228032785\n",
      "quarterly , 2006_Q2 , -137.673460443619 , 137.673460443619\n",
      "quarterly , 2006_Q3 , -197.6344705760332 , 197.6344705760332\n",
      "quarterly , 2006_Q4 , -170.01004624433352 , 170.01004624433352\n",
      "quarterly , 2007_Q1 , -165.6230258465225 , 165.6230258465225\n",
      "quarterly , 2007_Q2 , -28.649847346633884 , 28.649847346633884\n",
      "quarterly , 2007_Q3 , 65.87184696458556 , -65.87184696458556\n",
      "quarterly , 2007_Q4 , 52.14069573668893 , -52.14069573668893\n",
      "quarterly , 2008_Q1 , 88.05382466327212 , -88.05382466327212\n",
      "quarterly , 2008_Q2 , -48.62109320954578 , 48.62109320954578\n",
      "quarterly , 2008_Q3 , -178.6917016271735 , 178.6917016271735\n",
      "quarterly , 2008_Q4 , -161.42121345627865 , 161.42121345627865\n",
      "quarterly , 2009_Q1 , -22.98779218387013 , 22.98779218387013\n",
      "quarterly , 2009_Q2 , 30.868550367882435 , -30.868550367882435\n",
      "quarterly , 2009_Q3 , 33.32167497674206 , -33.32167497674206\n",
      "quarterly , 2009_Q4 , 20.60134057928058 , -20.60134057928058\n",
      "quarterly , 2010_Q1 , -82.96372532908623 , 82.96372532908623\n",
      "quarterly , 2010_Q2 , -91.1770773844176 , 91.1770773844176\n",
      "quarterly , 2010_Q3 , 114.87904652704898 , -114.87904652704898\n",
      "quarterly , 2010_Q4 , 69.30755454688659 , -69.30755454688659\n",
      "quarterly , 2011_Q1 , 53.425112795333554 , -53.425112795333554\n",
      "quarterly , 2011_Q2 , -59.77321718471815 , 59.77321718471815\n",
      "quarterly , 2011_Q3 , -91.51367116800024 , 91.51367116800024\n",
      "quarterly , 2011_Q4 , -156.73364012125955 , 156.73364012125955\n",
      "quarterly , 2012_Q1 , -154.72106247718528 , 154.72106247718528\n",
      "quarterly , 2012_Q2 , -123.828375033996 , 123.828375033996\n",
      "quarterly , 2012_Q3 , -81.36071506389 , 81.36071506389\n",
      "quarterly , 2012_Q4 , -94.78877702823945 , 94.78877702823945\n",
      "quarterly , 2013_Q1 , -90.95579964587907 , 90.95579964587907\n",
      "quarterly , 2013_Q2 , -91.08592702068108 , 91.08592702068108\n",
      "quarterly , 2013_Q3 , -93.16645514607809 , 93.16645514607809\n",
      "quarterly , 2013_Q4 , -84.02881735742973 , 84.02881735742973\n",
      "quarterly , 2014_Q1 , -70.61117684916411 , 70.61117684916411\n",
      "quarterly , 2014_Q2 , -33.882597308259875 , 33.882597308259875\n",
      "quarterly , 2014_Q3 , -61.27629935667145 , 61.27629935667145\n",
      "quarterly , 2014_Q4 , -31.480664497541547 , 31.480664497541547\n",
      "quarterly , 2015_Q1 , -82.85948522457542 , 82.85948522457542\n",
      "quarterly , 2015_Q2 , -63.051551769146094 , 63.051551769146094\n",
      "quarterly , 2015_Q3 , -334.014833923776 , 334.014833923776\n",
      "quarterly , 2015_Q4 , -307.96759241119497 , 307.96759241119497\n",
      "quarterly , 2016_Q1 , -292.21454000597515 , 292.21454000597515\n",
      "quarterly , 2016_Q2 , -345.94514313484535 , 345.94514313484535\n",
      "quarterly , 2016_Q3 , -231.31314494114216 , 231.31314494114216\n",
      "quarterly , 2016_Q4 , -227.32156458273892 , 227.32156458273892\n",
      "quarterly , 2017_Q1 , -234.8257522249355 , 234.8257522249355\n",
      "quarterly , 2017_Q2 , -142.65928888559924 , 142.65928888559924\n",
      "quarterly , 2017_Q3 , -135.12281390011955 , 135.12281390011955\n",
      "quarterly , 2017_Q4 , -259.2127236433285 , 259.2127236433285\n",
      "quarterly , 2018_Q1 , -229.86707975914817 , 229.86707975914817\n",
      "quarterly , 2018_Q2 , -206.1243786769576 , 206.1243786769576\n",
      "quarterly , 2018_Q3 , -230.87366596625606 , 230.87366596625606\n",
      "quarterly , 2018_Q4 , -133.19256491344254 , 133.19256491344254\n",
      "quarterly , 2019_Q1 , -140.4546182959316 , 140.4546182959316\n",
      "quarterly , 2019_Q2 , -110.31169287358031 , 110.31169287358031\n",
      "_period_category , period , uniqueness * strength , -(uniqueness * strength)\n",
      "semiannually , 1998_1H , 117.7997745112077 , -117.7997745112077\n",
      "semiannually , 1998_2H , 14.437043750679116 , -14.437043750679116\n",
      "semiannually , 1999_1H , 16.615194626574265 , -16.615194626574265\n",
      "semiannually , 1999_2H , -7.094118548304074 , 7.094118548304074\n",
      "semiannually , 2000_1H , -21.712236550656257 , 21.712236550656257\n",
      "semiannually , 2000_2H , -36.65710533322369 , 36.65710533322369\n",
      "semiannually , 2001_1H , -29.754086313745795 , 29.754086313745795\n",
      "semiannually , 2001_2H , -1.8341170877217046 , 1.8341170877217046\n",
      "semiannually , 2002_1H , 105.99353311283961 , -105.99353311283961\n",
      "semiannually , 2002_2H , 38.70765113062508 , -38.70765113062508\n",
      "semiannually , 2003_1H , -30.801816365812456 , 30.801816365812456\n",
      "semiannually , 2003_2H , 12.60400419204746 , -12.60400419204746\n",
      "semiannually , 2004_1H , 63.893107079173184 , -63.893107079173184\n",
      "semiannually , 2004_2H , 163.42989330547374 , -163.42989330547374\n",
      "semiannually , 2005_1H , -35.00250005465409 , 35.00250005465409\n",
      "semiannually , 2005_2H , -70.44070945730078 , 70.44070945730078\n",
      "semiannually , 2006_1H , -178.23111360500866 , 178.23111360500866\n",
      "semiannually , 2006_2H , -230.2085569132059 , 230.2085569132059\n",
      "semiannually , 2007_1H , -29.224816680274053 , 29.224816680274053\n",
      "semiannually , 2007_2H , 94.20575745959523 , -94.20575745959523\n",
      "semiannually , 2008_1H , -54.711643455777754 , 54.711643455777754\n",
      "semiannually , 2008_2H , -211.11234756104298 , 211.11234756104298\n",
      "semiannually , 2009_1H , 6.8573486012264055 , -6.8573486012264055\n",
      "semiannually , 2009_2H , 13.148546089680856 , -13.148546089680856\n",
      "semiannually , 2010_1H , -87.8785114111341 , 87.8785114111341\n",
      "semiannually , 2010_2H , 71.71479073069465 , -71.71479073069465\n",
      "semiannually , 2011_1H , -79.0436581212287 , 79.0436581212287\n",
      "semiannually , 2011_2H , -237.74902316664674 , 237.74902316664674\n",
      "semiannually , 2012_1H , -167.0318935257979 , 167.0318935257979\n",
      "semiannually , 2012_2H , -122.2824501138944 , 122.2824501138944\n",
      "semiannually , 2013_1H , -112.40576370161656 , 112.40576370161656\n",
      "semiannually , 2013_2H , -129.84312001727108 , 129.84312001727108\n",
      "semiannually , 2014_1H , -69.18408333604546 , 69.18408333604546\n",
      "semiannually , 2014_2H , -19.9241010274523 , 19.9241010274523\n",
      "semiannually , 2015_1H , -57.51993652825247 , 57.51993652825247\n",
      "semiannually , 2015_2H , -369.27032843954197 , 369.27032843954197\n",
      "semiannually , 2016_1H , -391.84698000097313 , 391.84698000097313\n",
      "semiannually , 2016_2H , -260.7901872826155 , 260.7901872826155\n",
      "semiannually , 2017_1H , -173.3080928213289 , 173.3080928213289\n",
      "semiannually , 2017_2H , -275.12477664021674 , 275.12477664021674\n",
      "semiannually , 2018_1H , -242.383630694594 , 242.383630694594\n",
      "semiannually , 2018_2H , -143.37615268137586 , 143.37615268137586\n",
      "semiannually , 2019_1H , -122.74939932323787 , 122.74939932323787\n",
      "_period_category , period , uniqueness * strength , -(uniqueness * strength)\n",
      "annually , 1998_ , 15.487802140814258 , -15.487802140814258\n",
      "annually , 1999_ , -19.902674454850434 , 19.902674454850434\n",
      "annually , 2000_ , -37.36577891076478 , 37.36577891076478\n",
      "annually , 2001_ , -1.0585167844688748 , 1.0585167844688748\n",
      "annually , 2002_ , -6.218068215570742 , 6.218068215570742\n",
      "annually , 2003_ , 14.822306817564895 , -14.822306817564895\n",
      "annually , 2004_ , 210.93779914802042 , -210.93779914802042\n",
      "annually , 2005_ , -75.48955767612946 , 75.48955767612946\n",
      "annually , 2006_ , -215.71149031790887 , 215.71149031790887\n",
      "annually , 2007_ , 39.159193003413 , -39.159193003413\n",
      "annually , 2008_ , -227.20633982878024 , 227.20633982878024\n",
      "annually , 2009_ , 15.769366781253897 , -15.769366781253897\n",
      "annually , 2010_ , 80.0808564093096 , -80.0808564093096\n",
      "annually , 2011_ , -273.31789181034503 , 273.31789181034503\n",
      "annually , 2012_ , -146.770196586617 , 146.770196586617\n",
      "annually , 2013_ , -132.61575856055234 , 132.61575856055234\n",
      "annually , 2014_ , -46.9538211482039 , 46.9538211482039\n",
      "annually , 2015_ , -419.70578049885455 , 419.70578049885455\n",
      "annually , 2016_ , -309.195541693724 , 309.195541693724\n",
      "annually , 2017_ , -345.34542377817235 , 345.34542377817235\n",
      "annually , 2018_ , -156.55907091872584 , 156.55907091872584\n",
      "annually , 2019_ , -108.45496606152975 , 108.45496606152975\n"
     ]
    }
   ],
   "source": [
    "import numpy as np\n",
    "for _period_category, _period_dict in bigram_uniqueness_strength_dict.items():\n",
    "    print('_period_category , period , uniqueness * strength , -(uniqueness * strength)')\n",
    "    for _period in sorted(_period_dict.keys()):\n",
    "        count = 0\n",
    "        _sum_product = 0\n",
    "        for _bigram, (_freq, _uniqueness, _strength) in sorted(_period_dict[_period].items(),\n",
    "                                                               key=lambda t: t[-1][0],\n",
    "                                                               reverse=True):  # CONTROL PRINTING ORDER\n",
    "            count += 1\n",
    "            _sum_product += (_uniqueness*_strength)\n",
    "            if count == 5:\n",
    "                print(_period_category, ',', _period, ',', _sum_product, ',', -_sum_product)\n",
    "                break"
   ]
  },
  {
   "cell_type": "code",
   "execution_count": null,
   "metadata": {
    "collapsed": true
   },
   "outputs": [],
   "source": []
  }
 ],
 "metadata": {
  "kernelspec": {
   "display_name": "Python 3",
   "language": "python",
   "name": "python3"
  },
  "language_info": {
   "codemirror_mode": {
    "name": "ipython",
    "version": 3
   },
   "file_extension": ".py",
   "mimetype": "text/x-python",
   "name": "python",
   "nbconvert_exporter": "python",
   "pygments_lexer": "ipython3",
   "version": "3.6.9"
  }
 },
 "nbformat": 4,
 "nbformat_minor": 2
}
