{
 "cells": [
  {
   "cell_type": "code",
   "execution_count": 35,
   "metadata": {
    "collapsed": false
   },
   "outputs": [],
   "source": [
    "from config import parameters\n",
    "from utils import *\n",
    "from collections import defaultdict\n",
    "import statistics"
   ]
  },
  {
   "cell_type": "code",
   "execution_count": 4,
   "metadata": {
    "collapsed": false
   },
   "outputs": [
    {
     "name": "stdout",
     "output_type": "stream",
     "text": [
      "Completed loading: /home/dmlab/jihye/GIT/bis_speeches_text_bigram_frequency/output/target-list-units_20191028-06-21-12.pkl\n"
     ]
    },
    {
     "data": {
      "text/plain": [
       "488"
      ]
     },
     "execution_count": 4,
     "metadata": {},
     "output_type": "execute_result"
    }
   ],
   "source": [
    "target_doc_list = load_pkl('/home/dmlab/jihye/GIT/bis_speeches_text_bigram_frequency/output/target-list-units_20191028-06-21-12.pkl')\n",
    "len(target_doc_list)"
   ]
  },
  {
   "cell_type": "markdown",
   "metadata": {},
   "source": [
    "### by author"
   ]
  },
  {
   "cell_type": "code",
   "execution_count": 15,
   "metadata": {
    "collapsed": false
   },
   "outputs": [
    {
     "name": "stdout",
     "output_type": "stream",
     "text": [
      "# of documents\n",
      "Greenspan \t 192\n",
      "Bernanke \t 218\n",
      "Yellen \t 58\n",
      "Powell \t 20\n",
      "488\n",
      "# of words\n",
      "Greenspan \t 21986\n",
      "Bernanke \t 27378\n",
      "Yellen \t 8083\n",
      "Powell \t 2654\n",
      "60101\n"
     ]
    }
   ],
   "source": [
    "author_list = ['Greenspan', 'Bernanke', 'Yellen', 'Powell']\n",
    "_doc_dict = defaultdict(lambda: 0)\n",
    "_word_dict = defaultdict(lambda: 0)\n",
    "for doc in target_doc_list:\n",
    "    for author in author_list:\n",
    "        if author in doc['short_info']:\n",
    "            _doc_dict[author] += 1\n",
    "            _word_dict[author] += len(doc['unigrams_by_sentence'])\n",
    "            break\n",
    "\n",
    "print('# of documents')\n",
    "_sum = 0\n",
    "for key, val in _doc_dict.items():\n",
    "    print(key, '\\t', val)\n",
    "    _sum += val\n",
    "print(_sum)\n",
    "\n",
    "print('\\n # of words')\n",
    "_sum = 0\n",
    "for key, val in _word_dict.items():\n",
    "    print(key, '\\t', val)\n",
    "    _sum += val\n",
    "print(_sum)"
   ]
  },
  {
   "cell_type": "code",
   "execution_count": 32,
   "metadata": {
    "collapsed": false
   },
   "outputs": [
    {
     "name": "stdout",
     "output_type": "stream",
     "text": [
      "[0, 1, 2, 3]\n",
      "[122, 126, 181, 252]\n",
      "\n",
      "\n",
      "\n",
      "length= 0\n",
      "{'sentence': '.', 'unigrams': []}\n",
      "{'sentence': '.', 'unigrams': []}\n",
      "{'sentence': '.', 'unigrams': []}\n",
      "\n",
      "\n",
      "\n",
      "length= 1\n",
      "{'sentence': 'It is.', 'unigrams': [('is', 'VBZ')]}\n",
      "{'sentence': 'percent.', 'unigrams': [('percent', 'NN')]}\n",
      "{'sentence': 'Rebates.', 'unigrams': [('rebate', 'NN')]}\n",
      "\n",
      "\n",
      "\n",
      "length= 2\n",
      "{'sentence': 'BIS Review  /', 'unigrams': [('bi', 'NN'), ('review', 'NN')]}\n",
      "{'sentence': 'BIS Review  /', 'unigrams': [('bi', 'NN'), ('review', 'NN')]}\n",
      "{'sentence': 'If the ratio declines below  .', 'unigrams': [('ratio', 'NN'), ('decline', 'NN')]}\n",
      "\n",
      "\n",
      "\n",
      "length= 3\n",
      "{'sentence': 'These are important concerns.', 'unigrams': [('are', 'VBP'), ('important', 'JJ'), ('concern', 'NN')]}\n",
      "{'sentence': 'Its value is not.', 'unigrams': [('value', 'NN'), ('is', 'VBZ'), ('not', 'RB')]}\n",
      "{'sentence': 'I fear they may be right.', 'unigrams': [('fear', 'VBP'), ('be', 'VB'), ('right', 'JJ')]}\n",
      "\n",
      "\n",
      "\n",
      "length= 122\n",
      "[{'sentence': 'We have recently overhauled the regulations governing mortgage transactions and implemented enhanced protections for credit card accounts and   See Board of Governors of the Federal Reserve System, Federal Deposit Insurance Corporation, Office of the Comptroller of the Currency, and Office of Thrift Supervision ( ), “Interagency Statement on Meeting the Needs of Creditworthy Borrowers”, joint press release, November  ; Board of Governors of the Federal Reserve System, Federal Deposit Insurance Corporation, National Credit Union Administration, Office of the Comptroller of the Currency, Office of Thrift Supervision, and Conference of State Bank Supervisors ( ), “Regulators Issue Statement on Lending to Creditworthy Small Businesses”, joint press release, February  ; Board of Governors of the Federal Reserve System, Division of Banking Supervision and Regulation ( ), “Prudent Commercial Real Estate Loan Workouts”, Supervision and Regulation Letter SR  –  (October  ); and Office of the Comptroller of the Currency, Federal Deposit Insurance Corporation, Federal Reserve Board, Federal Financial Institutions Examination Council and Office of Thrift Supervision ( ), “Policy Statement on Prudent Commercial Real Estate Loan Workouts”, joint policy statement, October  .', 'unigrams': [('have', 'VBP'), ('recently', 'RB'), ('overhauled', 'VBN'), ('regulation', 'NN'), ('governing', 'VBG'), ('mortgage', 'NN'), ('transaction', 'NN'), ('implemented', 'VBD'), ('enhanced', 'JJ'), ('protection', 'NN'), ('credit', 'NN'), ('card', 'NN'), ('account', 'NN'), ('see', 'VB'), ('board', 'NN'), ('governor', 'NN'), ('federal', 'JJ'), ('reserve', 'NN'), ('system', 'NN'), ('federal', 'JJ'), ('deposit', 'NN'), ('insurance', 'NN'), ('corporation', 'NN'), ('office', 'NN'), ('comptroller', 'NN'), ('currency', 'NN'), ('office', 'NN'), ('thrift', 'NN'), ('supervision', 'NN'), ('interagency', 'NN'), ('statement', 'NN'), ('meeting', 'VBG'), ('need', 'NN'), ('creditworthy', 'JJ'), ('borrowers', 'NNS'), ('joint', 'JJ'), ('press', 'NN'), ('release', 'NN'), ('november', 'NNP'), ('board', 'NN'), ('governor', 'NN'), ('federal', 'JJ'), ('reserve', 'NN'), ('system', 'NN'), ('federal', 'JJ'), ('deposit', 'NN'), ('insurance', 'NN'), ('corporation', 'NN'), ('national', 'JJ'), ('credit', 'NN'), ('union', 'NN'), ('administration', 'NN'), ('office', 'NN'), ('comptroller', 'NN'), ('currency', 'NN'), ('office', 'NN'), ('thrift', 'NN'), ('supervision', 'NN'), ('conference', 'NN'), ('state', 'NN'), ('bank', 'NN'), ('supervisor', 'NN'), ('regulators', 'NNS'), ('issue', 'VBP'), ('statement', 'NN'), ('lending', 'NN'), ('creditworthy', 'VB'), ('small', 'JJ'), ('businesses', 'NNS'), ('joint', 'JJ'), ('press', 'NN'), ('release', 'NN'), ('february', 'JJ'), ('board', 'NN'), ('governor', 'NN'), ('federal', 'JJ'), ('reserve', 'NN'), ('system', 'NN'), ('division', 'NN'), ('banking', 'NN'), ('supervision', 'NN'), ('regulation', 'NN'), ('prudent', 'JJ'), ('commercial', 'JJ'), ('real', 'JJ'), ('estate', 'NN'), ('loan', 'NN'), ('workouts', 'NNS'), ('supervision', 'NN'), ('regulation', 'NN'), ('letter', 'NN'), ('sr', 'JJ'), ('october', 'NNP'), ('office', 'NN'), ('comptroller', 'NN'), ('currency', 'NN'), ('federal', 'JJ'), ('deposit', 'NN'), ('insurance', 'NN'), ('corporation', 'NN'), ('federal', 'JJ'), ('reserve', 'NN'), ('board', 'NN'), ('federal', 'JJ'), ('financial', 'JJ'), ('institution', 'NN'), ('examination', 'NN'), ('council', 'NN'), ('office', 'NN'), ('thrift', 'NN'), ('supervision', 'NN'), ('policy', 'NN'), ('statement', 'NN'), ('prudent', 'JJ'), ('commercial', 'JJ'), ('real', 'JJ'), ('estate', 'NN'), ('loan', 'NN'), ('workouts', 'NNS'), ('joint', 'JJ'), ('policy', 'NN'), ('statement', 'NN')]}]\n",
      "\n",
      "\n",
      "\n",
      "length= 126\n",
      "[{'sentence': 'In my view, comprehensive reform should include at least the following key elements: BIS Review  /    a prudential approach that focuses on the stability of the financial system as a whole, not just the safety and soundness of individual institutions, and that includes formal mechanisms for identifying and dealing with emerging systemic risks; stronger capital and liquidity standards for financial firms, with more-stringent standards for large, complex, and financially interconnected firms; the extension and enhancement of supervisory oversight, including effective consolidated supervision, to all financial organizations that could pose a significant risk to the overall financial system; an enhanced bankruptcy or resolution regime, modeled on the current system for depository institutions, that would allow financially troubled, systemically important nonbank financial institutions to be wound down without broad disruption to the financial system and the economy; enhanced protections for consumers and investors in their financial dealings; measures to ensure that critical payment, clearing, and settlement arrangements are resilient to financial shocks, and that practices related to the trading and clearing of derivatives and other financial instruments do not pose risks to the financial system as a whole; and improved coordination across countries in the development of regulations and in the supervision of internationally active firms.', 'unigrams': [('view', 'NN'), ('comprehensive', 'JJ'), ('reform', 'NN'), ('include', 'VB'), ('least', 'JJS'), ('following', 'JJ'), ('key', 'JJ'), ('element', 'NN'), ('bi', 'NN'), ('review', 'VB'), ('prudential', 'JJ'), ('approach', 'NN'), ('focus', 'VBZ'), ('stability', 'NN'), ('financial', 'JJ'), ('system', 'NN'), ('whole', 'JJ'), ('not', 'RB'), ('just', 'RB'), ('safety', 'NN'), ('soundness', 'NN'), ('individual', 'JJ'), ('institution', 'NN'), ('includes', 'VBZ'), ('formal', 'JJ'), ('mechanism', 'NN'), ('identifying', 'VBG'), ('dealing', 'VBG'), ('emerging', 'VBG'), ('systemic', 'JJ'), ('risk', 'NN'), ('stronger', 'JJR'), ('capital', 'NN'), ('liquidity', 'NN'), ('standard', 'NN'), ('financial', 'JJ'), ('firm', 'NN'), ('more stringent', 'JJ'), ('standard', 'NN'), ('large', 'JJ'), ('complex', 'JJ'), ('financially', 'RB'), ('interconnected', 'JJ'), ('firm', 'NN'), ('extension', 'NN'), ('enhancement', 'NN'), ('supervisory', 'JJ'), ('oversight', 'NN'), ('including', 'VBG'), ('effective', 'JJ'), ('consolidated', 'JJ'), ('supervision', 'NN'), ('financial', 'JJ'), ('organization', 'NN'), ('pose', 'VB'), ('significant', 'JJ'), ('risk', 'NN'), ('overall', 'JJ'), ('financial', 'JJ'), ('system', 'NN'), ('enhanced', 'JJ'), ('bankruptcy', 'NN'), ('resolution', 'NN'), ('regime', 'NN'), ('modeled', 'VBN'), ('current', 'JJ'), ('system', 'NN'), ('depository', 'NN'), ('institution', 'NN'), ('allow', 'VB'), ('financially', 'RB'), ('troubled', 'JJ'), ('systemically', 'RB'), ('important', 'JJ'), ('nonbank', 'JJ'), ('financial', 'JJ'), ('institution', 'NN'), ('be', 'VB'), ('wound', 'VBN'), ('down', 'RB'), ('broad', 'JJ'), ('disruption', 'NN'), ('financial', 'JJ'), ('system', 'NN'), ('economy', 'NN'), ('enhanced', 'VBD'), ('protection', 'NN'), ('consumer', 'NN'), ('investor', 'NN'), ('financial', 'JJ'), ('dealing', 'VBG'), ('measure', 'NN'), ('ensure', 'VB'), ('critical', 'JJ'), ('payment', 'NN'), ('clearing', 'NN'), ('settlement', 'NN'), ('arrangement', 'NN'), ('are', 'VBP'), ('resilient', 'JJ'), ('financial', 'JJ'), ('shock', 'NN'), ('practice', 'NN'), ('related', 'VBN'), ('trading', 'NN'), ('clearing', 'NN'), ('derivative', 'JJ'), ('other', 'JJ'), ('financial', 'JJ'), ('instrument', 'NN'), ('do', 'VB'), ('not', 'RB'), ('pose', 'VB'), ('risk', 'NN'), ('financial', 'JJ'), ('system', 'NN'), ('whole', 'JJ'), ('improved', 'JJ'), ('coordination', 'NN'), ('country', 'NN'), ('development', 'NN'), ('regulation', 'NN'), ('supervision', 'NN'), ('internationally', 'RB'), ('active', 'JJ'), ('firm', 'NN')]}]\n",
      "\n",
      "\n",
      "\n",
      "length= 181\n",
      "[{'sentence': 'Monetary Policy Influences on Global Financial Conditions and International Capital Flows Jerome H. Powell Chairman Board of Governors of the Federal Reserve System Eighth High-Level Conference on the International Monetary System Sponsored by the International Monetary Fund and Swiss National Bank May  ,   Figure  : Changes in U.S. bond yields lead to changes in the value of the dollar and spill over to German bond yields May  ,   Board of Governors of the Federal Reserve System Bord of Governors of the Federal Reserve System   Figure  : Global sovereign bond yields and equity prices typically move together May  ,   Board of Governors of the Federal Reserve System Bord of Governors of the Federal Reserve System   Figure  : Changes in German yields around ECB announcements pass through to U.S. yields May  ,   Board of Governors of the Federal Reserve System Bord of Governors of the Federal Reserve System   Figure  : Capital flows to emerging markets were already strong before the Federal Reserve cut its policy rate May  ,   Board of Governors of the Federal Reserve System Bord of Governors of the Federal Reserve System   Figure  : EME vs. AE growth differentials and commodity prices drive capital flows to EMEs May  ,   Board of Governors of the Federal Reserve System Bord of Governors of the Federal Reserve System   Figure  : Market expectations for Fed policy seem well aligned with policymaker expectations May  ,   Board of Governors of the Federal Reserve System Bord of Governors of the Federal Reserve System   Figure  : Emerging market corporate debt at risk has begun to reverse its earlier rise, even in China May  ,   Board of Governors of the Federal Reserve System Bord of Governors of the Federal Reserve System', 'unigrams': [('monetary', 'JJ'), ('policy', 'NN'), ('influence', 'NN'), ('global', 'JJ'), ('financial', 'JJ'), ('condition', 'NN'), ('international', 'JJ'), ('capital', 'NN'), ('flow', 'NN'), ('jerome', 'NN'), ('powell', 'NN'), ('chairman', 'NN'), ('board', 'NN'), ('governor', 'NN'), ('federal', 'JJ'), ('reserve', 'NN'), ('system', 'NN'), ('eighth', 'JJ'), ('high level', 'NN'), ('conference', 'NN'), ('international', 'JJ'), ('monetary', 'JJ'), ('system', 'NN'), ('sponsored', 'VBN'), ('international', 'JJ'), ('monetary', 'JJ'), ('fund', 'NN'), ('swiss', 'JJ'), ('national', 'JJ'), ('bank', 'NN'), ('figure', 'VB'), ('change', 'NN'), ('u s', 'JJ'), ('bond', 'NN'), ('yield', 'NN'), ('lead', 'NN'), ('change', 'VB'), ('value', 'NN'), ('dollar', 'NN'), ('spill', 'NN'), ('german', 'JJ'), ('bond', 'NN'), ('yield', 'NN'), ('board', 'NN'), ('governor', 'NN'), ('federal', 'JJ'), ('reserve', 'NN'), ('system', 'NN'), ('bord', 'NN'), ('governor', 'NN'), ('federal', 'JJ'), ('reserve', 'NN'), ('system', 'NN'), ('figure', 'NN'), ('global', 'JJ'), ('sovereign', 'NN'), ('bond', 'NN'), ('yield', 'NN'), ('equity', 'NN'), ('price', 'NN'), ('typically', 'RB'), ('move', 'VB'), ('together', 'RB'), ('board', 'NN'), ('governor', 'NN'), ('federal', 'JJ'), ('reserve', 'NN'), ('system', 'NN'), ('bord', 'NN'), ('governor', 'NN'), ('federal', 'JJ'), ('reserve', 'NN'), ('system', 'NN'), ('figure', 'NN'), ('change', 'NN'), ('german', 'JJ'), ('yield', 'NN'), ('around', 'RB'), ('ecb', 'JJ'), ('announcement', 'NN'), ('pas', 'NN'), ('u s', 'JJ'), ('yield', 'NN'), ('board', 'NN'), ('governor', 'NN'), ('federal', 'JJ'), ('reserve', 'NN'), ('system', 'NN'), ('bord', 'NN'), ('governor', 'NN'), ('federal', 'JJ'), ('reserve', 'NN'), ('system', 'NN'), ('figure', 'NN'), ('capital', 'NN'), ('flow', 'NN'), ('emerging', 'VBG'), ('market', 'NN'), ('were', 'VBD'), ('already', 'RB'), ('strong', 'JJ'), ('federal', 'JJ'), ('reserve', 'NN'), ('cut', 'VBD'), ('policy', 'NN'), ('rate', 'NN'), ('board', 'NN'), ('governor', 'NN'), ('federal', 'JJ'), ('reserve', 'NN'), ('system', 'NN'), ('bord', 'NN'), ('governor', 'NN'), ('federal', 'JJ'), ('reserve', 'NN'), ('system', 'NN'), ('figure', 'NN'), ('eme', 'VBZ'), ('vs', 'JJ'), ('ae', 'JJ'), ('growth', 'NN'), ('differential', 'NN'), ('commodity', 'NN'), ('price', 'NN'), ('drive', 'NN'), ('capital', 'NN'), ('flow', 'NN'), ('emes', 'NNS'), ('board', 'NN'), ('governor', 'NN'), ('federal', 'JJ'), ('reserve', 'NN'), ('system', 'NN'), ('bord', 'NN'), ('governor', 'NN'), ('federal', 'JJ'), ('reserve', 'NN'), ('system', 'NN'), ('figure', 'NN'), ('market', 'NN'), ('expectation', 'NN'), ('fed', 'NN'), ('policy', 'NN'), ('seem', 'VBP'), ('well', 'RB'), ('aligned', 'VBN'), ('policymaker', 'NN'), ('expectation', 'NN'), ('board', 'NN'), ('governor', 'NN'), ('federal', 'JJ'), ('reserve', 'NN'), ('system', 'NN'), ('bord', 'NN'), ('governor', 'NN'), ('federal', 'JJ'), ('reserve', 'NN'), ('system', 'NN'), ('figure', 'NN'), ('emerging', 'VBG'), ('market', 'NN'), ('corporate', 'JJ'), ('debt', 'NN'), ('risk', 'NN'), ('ha', 'NN'), ('begun', 'VBN'), ('reverse', 'VB'), ('earlier', 'JJR'), ('rise', 'VB'), ('even', 'RB'), ('china', 'NN'), ('board', 'NN'), ('governor', 'NN'), ('federal', 'JJ'), ('reserve', 'NN'), ('system', 'NN'), ('bord', 'NN'), ('governor', 'NN'), ('federal', 'JJ'), ('reserve', 'NN'), ('system', 'NN')]}]\n",
      "\n",
      "\n",
      "\n",
      "length= 252\n",
      "[{'sentence': 'BIS Review  /    List of Federal Reserve System small business meetings Attachment A: Location Lexington, KY Cincinnati, OH Cleveland, OH Dayton, OH Pittsburgh, PA Cleveland, OH Omaha, NE Denver, CO St. Louis, MO Little Rock, AR Las Cruces, NM New York, NY New York, NY Newark, NJ Memphis, TN Louisville, KY Morgantown, WV Minneapolis, MN Phoenix, AZ Chapel Hill, NC Miami, FL Pittsburgh, PA Milwaukee, WI Duluth, MN San Francisco, CA Davenport, IA Toledo, OH Indianapolis, IN Columbus, OH Cincinnati, OH Nashville, TN Cleveland, OH Milwaukee, WI Annapolis, MD Tampa, FL Springfield, MA Detroit, MI Baton Rouge, LA Gulfport, MS Chicago, IL Baltimore, MD Phoenix, AZ Shreveport, LA Fed District Theme/Description – – – – – – Minority entrepreneurship SBA guaranteed loan programs – – Cleveland Cleveland Cleveland Cleveland Cleveland Cleveland Kansas City Kansas City St. Louis St. Louis Dallas and Kansas City Minority entrepreneurship Small focus group meeting New York New York Small focus group meeting Small focus group meeting New York – St. Louis – St. Louis Richmond Small focus group meeting Bank’s Small Business Council Minneapolis Listening session – CDFI lending San Francisco Richmond – Hispanic-owned businesses Atlanta – Cleveland – Chicago Minneapolis – Small business task force San Francisco Hispanic-owned businesses Chicago – Cleveland Chicago – – Cleveland – Cleveland Atlanta – – Cleveland – Chicago Small focus group meeting Richmond Atlanta – Financial institutions Boston – Chicago Atlanta Small focus group meeting Small focus group meeting Atlanta – Chicago – Richmond San Francisco Small focus group meeting Small focus group meeting Dallas BIS Review  /  Date  / /   / /   / /   / /   / /   / /   / /   / /   / /   / /   / /   / /   / /   / /   / /   / /   / /   / /   / /   / /   / /   / /   / /   / /   / /   / /   / /   / /   / /   / /   / /   / /   / /   / /   / /   / /   / /   / /   / /   / /   / /   / /   / /    Attachment B: Planned reserve bank community affairs activities on small business The information below describes key activities that Community Affairs Offices of Federal Reserve Banks are planning for the remainder of   in response to issues that were raised at the Federal Reserve System’s regional small business meetings or as a way to expand those meetings to other locations.', 'unigrams': [('bi', 'NN'), ('review', 'NN'), ('list', 'NN'), ('federal', 'JJ'), ('reserve', 'NN'), ('system', 'NN'), ('small', 'JJ'), ('business', 'NN'), ('meeting', 'NN'), ('attachment', 'VBD'), ('location', 'NN'), ('lexington', 'NN'), ('ky', 'NN'), ('cincinnati', 'NN'), ('cleveland', 'NN'), ('dayton', 'NN'), ('pittsburgh', 'NN'), ('pa', 'NN'), ('cleveland', 'VBP'), ('omaha', 'JJ'), ('ne', 'JJ'), ('denver', 'NN'), ('co', 'NN'), ('st', 'NN'), ('louis', 'NN'), ('mo', 'NN'), ('little', 'JJ'), ('rock', 'NN'), ('ar', 'NN'), ('la', 'NN'), ('crux', 'VBP'), ('nm', 'JJ'), ('new', 'JJ'), ('york', 'NN'), ('ny', 'JJ'), ('new', 'JJ'), ('york', 'NN'), ('ny', 'NN'), ('newark', 'JJ'), ('nj', 'NN'), ('memphis', 'NN'), ('tn', 'NN'), ('wv', 'NN'), ('minneapolis', 'NN'), ('mn', 'NN'), ('phoenix', 'NN'), ('az', 'NN'), ('chapel', 'NN'), ('hill', 'NN'), ('miami', 'NN'), ('fl', 'NN'), ('pittsburgh', 'NN'), ('pa', 'NN'), ('milwaukee', 'NN'), ('wi', 'NN'), ('duluth', 'NN'), ('mn', 'JJ'), ('san', 'NN'), ('francisco', 'NN'), ('davenport', 'VB'), ('ia', 'JJ'), ('toledo', 'NN'), ('oh', 'NN'), ('indianapolis', 'NN'), ('columbus', 'NN'), ('cincinnati', 'NN'), ('nashville', 'JJ'), ('tn', 'NN'), ('cleveland', 'NN'), ('milwaukee', 'NN'), ('wi', 'NN'), ('annapolis', 'NN'), ('md', 'NN'), ('tampa', 'NN'), ('fl', 'JJ'), ('springfield', 'NN'), ('ma', 'NN'), ('detroit', 'JJ'), ('mi', 'NN'), ('baton', 'NN'), ('rouge', 'NN'), ('la', 'NN'), ('gulfport', 'NN'), ('chicago', 'NN'), ('il', 'NN'), ('baltimore', 'NN'), ('md', 'NN'), ('phoenix', 'NN'), ('az', 'NN'), ('shreveport', 'NN'), ('la', 'NN'), ('fed', 'VBD'), ('district', 'NN'), ('theme description', 'NN'), ('minority', 'NN'), ('entrepreneurship', 'NN'), ('sba', 'VBP'), ('guaranteed', 'JJ'), ('loan', 'NN'), ('program', 'NN'), ('cleveland', 'NN'), ('cleveland', 'NN'), ('cleveland', 'NN'), ('cleveland', 'NN'), ('cleveland', 'NN'), ('cleveland', 'NN'), ('kansa', 'NNP'), ('city', 'NN'), ('kansa', 'NNP'), ('city', 'NN'), ('st', 'NN'), ('louis', 'VBD'), ('st', 'JJ'), ('louis', 'NN'), ('dallas', 'NN'), ('kansa', 'JJ'), ('city', 'NN'), ('minority', 'NN'), ('entrepreneurship', 'VBP'), ('small', 'JJ'), ('focus', 'NN'), ('group', 'NN'), ('meeting', 'VBG'), ('new', 'JJ'), ('york', 'NN'), ('new', 'JJ'), ('york', 'NN'), ('small', 'JJ'), ('focus', 'NN'), ('group', 'NN'), ('meeting', 'VBG'), ('small', 'JJ'), ('focus', 'NN'), ('group', 'NN'), ('meeting', 'VBG'), ('new', 'JJ'), ('york', 'NN'), ('st', 'NN'), ('louis', 'JJ'), ('st', 'NN'), ('louis', 'VBD'), ('richmond', 'NN'), ('small', 'JJ'), ('focus', 'NN'), ('group', 'NN'), ('meeting', 'VBG'), ('bank s', 'RB'), ('small', 'JJ'), ('business', 'NN'), ('council', 'NN'), ('minneapolis', 'NN'), ('listening', 'VBG'), ('session', 'NN'), ('cdfi', 'NN'), ('lending', 'NN'), ('san', 'JJ'), ('francisco', 'JJ'), ('richmond', 'NN'), ('hispanic owned', 'VBD'), ('business', 'NN'), ('atlanta', 'NN'), ('cleveland', 'NN'), ('chicago', 'NN'), ('small', 'JJ'), ('business', 'NN'), ('task', 'NN'), ('force', 'NN'), ('san', 'JJ'), ('francisco', 'NN'), ('hispanic owned', 'VBD'), ('business', 'NN'), ('chicago', 'NN'), ('cleveland', 'NN'), ('chicago', 'NN'), ('cleveland', 'NN'), ('cleveland', 'NN'), ('atlanta', 'NN'), ('cleveland', 'NN'), ('chicago', 'VB'), ('small', 'JJ'), ('focus', 'NN'), ('group', 'NN'), ('meeting', 'VBG'), ('richmond', 'NN'), ('atlanta', 'NN'), ('financial', 'JJ'), ('institution', 'NN'), ('boston', 'NN'), ('chicago', 'NN'), ('small', 'JJ'), ('focus', 'NN'), ('group', 'NN'), ('meeting', 'VBG'), ('small', 'JJ'), ('focus', 'NN'), ('group', 'NN'), ('meeting', 'VBG'), ('atlanta', 'JJ'), ('chicago', 'NN'), ('richmond', 'NN'), ('san', 'JJ'), ('francisco', 'RB'), ('small', 'JJ'), ('focus', 'NN'), ('group', 'NN'), ('meeting', 'VBG'), ('small', 'JJ'), ('focus', 'NN'), ('group', 'NN'), ('meeting', 'VBG'), ('dallas', 'NNS'), ('bi', 'NN'), ('review', 'NN'), ('date', 'NN'), ('attachment', 'NN'), ('planned', 'VBD'), ('reserve', 'NN'), ('bank', 'NN'), ('community', 'NN'), ('affair', 'NN'), ('activity', 'NN'), ('small', 'JJ'), ('business', 'NN'), ('information', 'NN'), ('describes', 'NNS'), ('key', 'JJ'), ('activity', 'NN'), ('community', 'NN'), ('affair', 'NN'), ('office', 'NN'), ('federal', 'JJ'), ('reserve', 'NN'), ('bank', 'NN'), ('are', 'VBP'), ('planning', 'VBG'), ('remainder', 'NN'), ('response', 'NN'), ('issue', 'VB'), ('were', 'VBD'), ('raised', 'VBN'), ('federal', 'JJ'), ('reserve', 'NN'), ('system s', 'VBD'), ('regional', 'JJ'), ('small', 'JJ'), ('business', 'NN'), ('meeting', 'NN'), ('way', 'NN'), ('expand', 'VB'), ('meeting', 'NN'), ('other', 'JJ'), ('location', 'NN')]}]\n",
      "\n",
      "\n",
      "\n",
      "===== \n",
      "sentence length\n",
      "0 , 1708\n",
      "1 , 556\n",
      "2 , 1511\n",
      "3 , 641\n",
      "4 , 1249\n",
      "5 , 1140\n",
      "6 , 1529\n",
      "7 , 1682\n",
      "8 , 2200\n",
      "9 , 2435\n",
      "10 , 2756\n",
      "11 , 3025\n",
      "12 , 3030\n",
      "13 , 3285\n",
      "14 , 3391\n",
      "15 , 3145\n",
      "16 , 3032\n",
      "17 , 2866\n",
      "18 , 2710\n",
      "19 , 2439\n",
      "20 , 2260\n",
      "21 , 2045\n",
      "22 , 1772\n",
      "23 , 1455\n",
      "24 , 1413\n",
      "25 , 1205\n",
      "26 , 996\n",
      "27 , 793\n",
      "28 , 645\n",
      "29 , 577\n",
      "30 , 462\n",
      "31 , 412\n",
      "32 , 301\n",
      "33 , 220\n",
      "34 , 218\n",
      "35 , 135\n",
      "36 , 117\n",
      "37 , 111\n",
      "38 , 84\n",
      "39 , 63\n",
      "40 , 61\n",
      "41 , 56\n",
      "42 , 54\n",
      "43 , 35\n",
      "44 , 34\n",
      "45 , 27\n",
      "46 , 28\n",
      "47 , 23\n",
      "48 , 12\n",
      "49 , 19\n",
      "50 , 14\n",
      "51 , 8\n",
      "52 , 10\n",
      "53 , 7\n",
      "54 , 11\n",
      "55 , 8\n",
      "56 , 6\n",
      "57 , 6\n",
      "58 , 9\n",
      "59 , 2\n",
      "60 , 8\n",
      "61 , 2\n",
      "62 , 7\n",
      "63 , 1\n",
      "64 , 4\n",
      "65 , 4\n",
      "66 , 1\n",
      "67 , 2\n",
      "70 , 1\n",
      "71 , 1\n",
      "75 , 1\n",
      "76 , 5\n",
      "77 , 1\n",
      "80 , 3\n",
      "81 , 1\n",
      "82 , 1\n",
      "84 , 2\n",
      "87 , 1\n",
      "88 , 2\n",
      "89 , 1\n",
      "92 , 1\n",
      "93 , 1\n",
      "104 , 1\n",
      "109 , 1\n",
      "122 , 1\n",
      "126 , 1\n",
      "181 , 1\n",
      "252 , 1\n"
     ]
    }
   ],
   "source": [
    "sentence_length_dict = defaultdict(lambda: list())\n",
    "for _doc in target_doc_list:\n",
    "    for i in range(len(_doc['sentences'])):\n",
    "        unigrams_len = len(_doc['unigrams_by_sentence'][i])\n",
    "        sentence_length_dict[unigrams_len].append({'sentence': _doc['sentences'][i], 'unigrams': _doc['unigrams_by_sentence'][i]})\n",
    "print(sorted(sentence_length_dict.keys())[:4])\n",
    "print(sorted(sentence_length_dict.keys())[-4:])\n",
    "\n",
    "print(\"\\n\\n\")\n",
    "\n",
    "for i in sorted(sentence_length_dict.keys())[:4]:\n",
    "    print('length=', i)\n",
    "    for j in range(3):\n",
    "        print(sentence_length_dict[i][j])\n",
    "    print('\\n')\n",
    "\n",
    "for i in sorted(sentence_length_dict.keys())[-4:]:\n",
    "    print('length=', i)\n",
    "    print(sentence_length_dict[i])\n",
    "    print('\\n')\n",
    "\n",
    "print('='*5, '\\n sentence length')    \n",
    "for _sent_len in sorted(sentence_length_dict.keys()):\n",
    "    print(_sent_len, ',', len(sentence_length_dict[_sent_len]))"
   ]
  },
  {
   "cell_type": "markdown",
   "metadata": {},
   "source": [
    "### Median. Exclude sentences with length of 0, 1, 2, 181, 252 "
   ]
  },
  {
   "cell_type": "code",
   "execution_count": 36,
   "metadata": {
    "collapsed": false
   },
   "outputs": [
    {
     "name": "stdout",
     "output_type": "stream",
     "text": [
      "median: 15.0\n",
      "mean: 15.976315602585043\n"
     ]
    }
   ],
   "source": [
    "sentence_length_list = list()\n",
    "\n",
    "for _doc in target_doc_list:\n",
    "    for i in range(len(_doc['sentences'])):\n",
    "        unigrams_len = len(_doc['unigrams_by_sentence'][i])\n",
    "        if unigrams_len in [0, 1, 2, 181, 252]:   \n",
    "            continue\n",
    "        sentence_length_list.append(unigrams_len)\n",
    "\n",
    "print('median:', statistics.median(sentence_length_list))\n",
    "print('mean:', statistics.mean(sentence_length_list))"
   ]
  }
 ],
 "metadata": {
  "kernelspec": {
   "display_name": "Python 3",
   "language": "python",
   "name": "python3"
  },
  "language_info": {
   "codemirror_mode": {
    "name": "ipython",
    "version": 3
   },
   "file_extension": ".py",
   "mimetype": "text/x-python",
   "name": "python",
   "nbconvert_exporter": "python",
   "pygments_lexer": "ipython3",
   "version": "3.6.9"
  }
 },
 "nbformat": 4,
 "nbformat_minor": 2
}
